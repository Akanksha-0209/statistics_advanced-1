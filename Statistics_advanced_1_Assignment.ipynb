{
  "nbformat": 4,
  "nbformat_minor": 0,
  "metadata": {
    "colab": {
      "provenance": []
    },
    "kernelspec": {
      "name": "python3",
      "display_name": "Python 3"
    },
    "language_info": {
      "name": "python"
    }
  },
  "cells": [
    {
      "cell_type": "markdown",
      "source": [
        "Question 1: What is a random variable in probability theory?\n",
        "\n",
        "Answer: A random variable is a function that assings a real number to each outcome of a random experiment. It “summarizes” uncertain outcomes numerically so we can analyze them using probability and statistics."
      ],
      "metadata": {
        "id": "WxWAM0K1YU6c"
      }
    },
    {
      "cell_type": "markdown",
      "source": [
        "Question 2: What are the types of random variables?\n",
        "\n",
        "Answer: Discrete Random Variable: It takes countable values. Example: Number of heads in 10 coins tossed. It is described by the probability mass function (pmf).\n",
        "\n",
        "Continuous random Variable: It takes value over an interval. Example: heights. It is described by a probability density function (pdf)."
      ],
      "metadata": {
        "id": "ydtDJs0NYyjE"
      }
    },
    {
      "cell_type": "markdown",
      "source": [
        "Question 3: Explain the difference between discrete and continuous distributions.\n",
        "\n",
        "Answer: Support: Discrete → countable set of points; Continuous → intervals on the real line\n",
        "\n",
        "Probability assignment: Discrete uses pmf; Continuous uses pdf.\n",
        "\n",
        "Examples: Discrete → Binomial, Poisson; Continuous → Normal, Exponential."
      ],
      "metadata": {
        "id": "R45lN8zEaNsj"
      }
    },
    {
      "cell_type": "markdown",
      "source": [
        "Question 4: What is a binomial distribution, and how is it used in probability?\n",
        "\n",
        "Answer: The Binomial(n,p) distribution models the number of successes\n",
        "X in n independent Bernoulli trials with success probability\n",
        "p.\n",
        "\n",
        "Use cases: quality control (defect counts), A/B tests (conversions), reliability, etc."
      ],
      "metadata": {
        "id": "fNLTrBKRaz_1"
      }
    },
    {
      "cell_type": "markdown",
      "source": [
        "Question 5: What is the standard normal distribution, and why is it important?\n",
        "\n",
        "Answer: The standard normal distribution is special case of normal distribution where:\n",
        "\n",
        "Mean = 0\n",
        "Sd = 1\n",
        "Variance = 1\n",
        "\n",
        "It is denoted as\n",
        "𝑍\n",
        "∼\n",
        "𝑁\n",
        "(\n",
        "0\n",
        ",\n",
        "1\n",
        ")\n",
        "Z∼N(0,1) and has a bell-shaped, symmetric probability density curve centered at 0.\n",
        "\n",
        "It is important because it converts any normal distribution to Z-score. It computes probabilities via standard z-tables.  It underpins many inferential methods."
      ],
      "metadata": {
        "id": "ujpZsEZ4cIN5"
      }
    },
    {
      "cell_type": "markdown",
      "source": [
        "Question 6: What is the Central Limit Theorem (CLT), and why is it critical in statistics?\n",
        "\n",
        "Answer: The CLT states that independent identically distributed observations with finite mean and variance, the sampling distribution of sample mean becomes approximately normal.\n",
        "\n",
        "it justifies using normal approximations to build confidence intervals and run hypothesis tests even when the original data are not normal."
      ],
      "metadata": {
        "id": "ihk0lE6CeO1A"
      }
    },
    {
      "cell_type": "markdown",
      "source": [
        "Question 7: What is the significance of confidence intervals in statistical analysis?\n",
        "\n",
        "Answer: A confidence interval (CI) gives a plausible range of values for a population parameter (e.g., a mean). A 95% CI built by a valid procedure will cover the true parameter in 95% of repeated samples. CIs communicate estimate + uncertainty, not just a point estimate."
      ],
      "metadata": {
        "id": "30yhM732fNBb"
      }
    },
    {
      "cell_type": "markdown",
      "source": [
        "Question 8: What is the concept of expected value in a probability distribution?\n",
        "\n",
        "Answer: The expected value (mean) is the long-run average outcome."
      ],
      "metadata": {
        "id": "pwB4IcZbgXVi"
      }
    },
    {
      "cell_type": "markdown",
      "source": [
        "Question 9: Write a Python program to generate 1000 random numbers from a normal\n",
        "distribution with mean = 50 and standard deviation = 5. Compute its mean and standard\n",
        "deviation using NumPy, and draw a histogram to visualize the distribution."
      ],
      "metadata": {
        "id": "caOm1vaMglQQ"
      }
    },
    {
      "cell_type": "code",
      "execution_count": 2,
      "metadata": {
        "colab": {
          "base_uri": "https://localhost:8080/",
          "height": 539
        },
        "id": "-zNqWitUWyqw",
        "outputId": "e731b18e-8267-4fec-c17d-42d50412f635"
      },
      "outputs": [
        {
          "output_type": "stream",
          "name": "stdout",
          "text": [
            "Sample mean: 50.0967\n",
            "Population std (ddof=0): 4.8936\n",
            "Sample std (ddof=1): 4.8961\n"
          ]
        },
        {
          "output_type": "display_data",
          "data": {
            "text/plain": [
              "<Figure size 640x480 with 1 Axes>"
            ],
            "image/png": "[encoded data removed]"
          },
          "metadata": {}
        }
      ],
      "source": [
        "import numpy as np\n",
        "import matplotlib.pyplot as plt\n",
        "\n",
        "np.random.seed(42)\n",
        "samples = np.random.normal(loc=50, scale=5, size=1000)\n",
        "\n",
        "mean_pop = np.mean(samples)\n",
        "std_pop = np.std(samples, ddof=0)\n",
        "std_sample = np.std(samples, ddof=1)\n",
        "\n",
        "print(f\"Sample mean: {mean_pop:.4f}\")\n",
        "print(f\"Population std (ddof=0): {std_pop:.4f}\")\n",
        "print(f\"Sample std (ddof=1): {std_sample:.4f}\")\n",
        "\n",
        "plt.figure()\n",
        "plt.hist(samples, bins=30, edgecolor='black')\n",
        "plt.title(\"Histogram of Simulated Normal Data (n=1000)\")\n",
        "plt.xlabel(\"Value\")\n",
        "plt.ylabel(\"Frequency\")\n",
        "plt.tight_layout()\n",
        "plt.show()"
      ]
    },
    {
      "cell_type": "markdown",
      "source": [
        "Question 10: You are working as a data analyst for a retail company. The company has\n",
        "collected daily sales data for 2 years and wants you to identify the overall sales trend.\n",
        "\n",
        "daily_sales = [220, 245, 210, 265, 230, 250, 260, 275, 240, 255,\n",
        "235, 260, 245, 250, 225, 270, 265, 255, 250, 260]\n",
        "\n",
        "● Explain how you would apply the Central Limit Theorem to estimate the average sales\n",
        "with a 95% confidence interval.\n",
        "\n",
        "● Write the Python code to compute the mean sales and its confidence interval."
      ],
      "metadata": {
        "id": "4uoOPa6slg2I"
      }
    },
    {
      "cell_type": "markdown",
      "source": [
        "Answer: Treat these 20 daily sales as a random sample. With unknown population standard deviation and\n",
        "n=20, use a t-based 95% CI for the mean"
      ],
      "metadata": {
        "id": "5R9nDqCNmxdu"
      }
    },
    {
      "cell_type": "code",
      "source": [
        "import numpy as np\n",
        "\n",
        "daily_sales = [220, 245, 210, 265, 230, 250, 260, 275, 240, 255,\n",
        "               235, 260, 245, 250, 225, 270, 265, 255, 250, 260]\n",
        "\n",
        "x = np.array(daily_sales, dtype=float)\n",
        "n = x.size\n",
        "xbar = x.mean()\n",
        "s = x.std(ddof=1)\n",
        "se = s / np.sqrt(n)\n",
        "\n",
        "t_crit = 2.093  # 95% two-sided, df=19\n",
        "lower = xbar - t_crit * se\n",
        "upper = xbar + t_crit * se\n",
        "\n",
        "print(f\"n = {n}\")\n",
        "print(f\"Sample mean = {xbar:.4f}\")\n",
        "print(f\"Sample std (ddof=1) = {s:.4f}\")\n",
        "print(f\"Standard error = {se:.4f}\")\n",
        "print(f\"95% CI = ({lower:.4f}, {upper:.4f})\")"
      ],
      "metadata": {
        "colab": {
          "base_uri": "https://localhost:8080/"
        },
        "id": "JiHxAGDXjNpO",
        "outputId": "262bf61f-7408-4b00-cfe1-c38525920ac7"
      },
      "execution_count": 6,
      "outputs": [
        {
          "output_type": "stream",
          "name": "stdout",
          "text": [
            "n = 20\n",
            "Sample mean = 248.2500\n",
            "Sample std (ddof=1) = 17.2653\n",
            "Standard error = 3.8606\n",
            "95% CI = (240.1697, 256.3303)\n"
          ]
        }
      ]
    },
    {
      "cell_type": "code",
      "source": [],
      "metadata": {
        "id": "7rcssPmSn3B8"
      },
      "execution_count": null,
      "outputs": []
    }
  ]
}